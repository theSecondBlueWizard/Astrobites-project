{
 "cells": [
  {
   "cell_type": "code",
   "execution_count": 7,
   "metadata": {},
   "outputs": [],
   "source": [
    "import numpy as np\n",
    "from matplotlib import pyplot as plt\n",
    "import rebound\n",
    "import time"
   ]
  },
  {
   "cell_type": "code",
   "execution_count": 8,
   "metadata": {},
   "outputs": [
    {
     "name": "stdout",
     "output_type": "stream",
     "text": [
      "REBOUND Webserver listening on http://localhost:1234 ...\n"
     ]
    }
   ],
   "source": [
    "sim = rebound.simulation.Simulation()\n",
    "sim.start_server()"
   ]
  },
  {
   "cell_type": "code",
   "execution_count": null,
   "metadata": {},
   "outputs": [],
   "source": [
    "sim.integrator = \"BS\"\n",
    "sim.ri_bs.eps_rel = 1e-4\n",
    "sim.ri_bs.eps_abs = 1e-4\n",
    "sim.ri_bs.min_dt = 1e-14\n",
    "sim.ri_bs.max_dt = 1e-7\n",
    "sim.move_to_com()"
   ]
  },
  {
   "cell_type": "code",
   "execution_count": 10,
   "metadata": {},
   "outputs": [],
   "source": [
    "sim.add(m = 1)\n",
    "sim.add(m = 1, y = 1, vx = 1)\n",
    "sim.add(m = 1, x = 1, vy = -1)"
   ]
  },
  {
   "cell_type": "code",
   "execution_count": 11,
   "metadata": {},
   "outputs": [],
   "source": [
    "# sim.integrate(200)"
   ]
  },
  {
   "cell_type": "code",
   "execution_count": 12,
   "metadata": {},
   "outputs": [
    {
     "name": "stdout",
     "output_type": "stream",
     "text": [
      "Simulations in this paper made use of the REBOUND N-body code \\citep{rebound}. \n",
      "\n",
      "\n",
      "@ARTICLE{rebound,\n",
      "       author = {{Rein}, H. and {Liu}, S. -F.},\n",
      "        title = \"{REBOUND: an open-source multi-purpose N-body code for collisional dynamics}\",\n",
      "      journal = {\\aap},\n",
      "     keywords = {methods: numerical, planets and satellites: rings, protoplanetary disks, Astrophysics - Earth and Planetary Astrophysics, Astrophysics - Instrumentation and Methods for Astrophysics, Mathematics - Dynamical Systems, Physics - Computational Physics},\n",
      "         year = 2012,\n",
      "        month = jan,\n",
      "       volume = {537},\n",
      "          eid = {A128},\n",
      "        pages = {A128},\n",
      "          doi = {10.1051/0004-6361/201118085},\n",
      "archivePrefix = {arXiv},\n",
      "       eprint = {1110.4876},\n",
      " primaryClass = {astro-ph.EP},\n",
      "       adsurl = {https://ui.adsabs.harvard.edu/abs/2012A&A...537A.128R},\n",
      "      adsnote = {Provided by the SAO/NASA Astrophysics Data System}\n",
      "}\n",
      "\n"
     ]
    }
   ],
   "source": [
    "sim.cite()"
   ]
  }
 ],
 "metadata": {
  "kernelspec": {
   "display_name": "venv",
   "language": "python",
   "name": "python3"
  },
  "language_info": {
   "codemirror_mode": {
    "name": "ipython",
    "version": 3
   },
   "file_extension": ".py",
   "mimetype": "text/x-python",
   "name": "python",
   "nbconvert_exporter": "python",
   "pygments_lexer": "ipython3",
   "version": "3.13.2"
  }
 },
 "nbformat": 4,
 "nbformat_minor": 2
}
